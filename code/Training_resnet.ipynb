{
  "nbformat": 4,
  "nbformat_minor": 0,
  "metadata": {
    "colab": {
      "name": "Training_resnet.ipynb",
      "provenance": [],
      "collapsed_sections": [],
      "include_colab_link": true
    },
    "kernelspec": {
      "name": "python3",
      "display_name": "Python 3"
    }
  },
  "cells": [
    {
      "cell_type": "markdown",
      "metadata": {
        "id": "view-in-github",
        "colab_type": "text"
      },
      "source": [
        "<a href=\"https://colab.research.google.com/github/alekhyam94/DDL-Project/blob/master/code/Training_resnet.ipynb\" target=\"_parent\"><img src=\"https://colab.research.google.com/assets/colab-badge.svg\" alt=\"Open In Colab\"/></a>"
      ]
    },
    {
      "cell_type": "code",
      "metadata": {
        "id": "SoOhlsBOMdPu",
        "colab_type": "code",
        "colab": {
          "base_uri": "https://localhost:8080/",
          "height": 122
        },
        "outputId": "cf26605f-9906-4812-fca8-4e9c1211afff"
      },
      "source": [
        "from google.colab import drive\n",
        "drive.mount('/content/drive/')\n",
        "\n",
        "import os"
      ],
      "execution_count": 1,
      "outputs": [
        {
          "output_type": "stream",
          "text": [
            "Go to this URL in a browser: https://accounts.google.com/o/oauth2/auth?client_id=947318989803-6bn6qk8qdgf4n4g3pfee6491hc0brc4i.apps.googleusercontent.com&redirect_uri=urn%3Aietf%3Awg%3Aoauth%3A2.0%3Aoob&scope=email%20https%3A%2F%2Fwww.googleapis.com%2Fauth%2Fdocs.test%20https%3A%2F%2Fwww.googleapis.com%2Fauth%2Fdrive%20https%3A%2F%2Fwww.googleapis.com%2Fauth%2Fdrive.photos.readonly%20https%3A%2F%2Fwww.googleapis.com%2Fauth%2Fpeopleapi.readonly&response_type=code\n",
            "\n",
            "Enter your authorization code:\n",
            "··········\n",
            "Mounted at /content/drive/\n"
          ],
          "name": "stdout"
        }
      ]
    },
    {
      "cell_type": "code",
      "metadata": {
        "id": "o9pfvzYwMiNy",
        "colab_type": "code",
        "colab": {}
      },
      "source": [
        ""
      ],
      "execution_count": 0,
      "outputs": []
    },
    {
      "cell_type": "markdown",
      "metadata": {
        "id": "88g3eFEiHqo8",
        "colab_type": "text"
      },
      "source": [
        "## Download training data"
      ]
    },
    {
      "cell_type": "markdown",
      "metadata": {
        "id": "EnULKo4fPu_h",
        "colab_type": "text"
      },
      "source": [
        "#### Frame Level Data"
      ]
    },
    {
      "cell_type": "code",
      "metadata": {
        "id": "KunHQr5DKLry",
        "colab_type": "code",
        "outputId": "2986c1ca-dd43-4101-bdaa-e499aff41759",
        "colab": {
          "base_uri": "https://localhost:8080/",
          "height": 241
        }
      },
      "source": [
        "!mkdir -p /content/2/frame/train\n",
        "os.chdir('/content/2/frame/train')\n",
        "!curl data.yt8m.org/download.py | shard=1,3000 partition=2/frame/train mirror=us python"
      ],
      "execution_count": 0,
      "outputs": [
        {
          "output_type": "stream",
          "text": [
            "  % Total    % Received % Xferd  Average Speed   Time    Time     Time  Current\n",
            "                                 Dload  Upload   Total   Spent    Left  Speed\n",
            "100  4450  100  4450    0     0  16300      0 --:--:-- --:--:-- --:--:-- 16300\n",
            "Starting fresh download in this directory. Please make sure you have >2TB of free disk space!\n",
            ">> Downloading http://data.yt8m.org/2/download_plans/frame_train.json 102.7%Succesfully downloaded 2_frame_train_download_plan.json 215275 bytes.\n",
            "Files remaining 1\n",
            "Downloading: train2161.tfrecord\n",
            ">> Downloading http://us.data.yt8m.org/2/frame/train/trainI1.tfrecord 100.0%Succesfully downloaded train2161.tfrecord 270351379 bytes.\n",
            "Successfully downloaded train2161.tfrecord\n",
            "\n",
            "\n",
            "All done. No more files to download.\n"
          ],
          "name": "stdout"
        }
      ]
    },
    {
      "cell_type": "markdown",
      "metadata": {
        "id": "aMQmSgOiH3SR",
        "colab_type": "text"
      },
      "source": [
        "#### Video Level Data"
      ]
    },
    {
      "cell_type": "code",
      "metadata": {
        "id": "w4gwugpLF-ZI",
        "colab_type": "code",
        "outputId": "e23de997-2ea1-44fb-d4f7-aa802e743509",
        "colab": {
          "base_uri": "https://localhost:8080/",
          "height": 1000
        }
      },
      "source": [
        "!mkdir -p /content/2/video/train\n",
        "os.chdir('/content/2/video/train')\n",
        "!curl data.yt8m.org/download.py | shard=1,100 partition=2/video/train mirror=us python"
      ],
      "execution_count": 0,
      "outputs": [
        {
          "output_type": "stream",
          "text": [
            "  % Total    % Received % Xferd  Average Speed   Time    Time     Time  Current\n",
            "                                 Dload  Upload   Total   Spent    Left  Speed\n",
            "100  4450  100  4450    0     0  23670      0 --:--:-- --:--:-- --:--:-- 23670\n",
            "Starting fresh download in this directory. Please make sure you have >2TB of free disk space!\n",
            ">> Downloading http://data.yt8m.org/2/download_plans/video_train.json 102.7%Succesfully downloaded 2_video_train_download_plan.json 215275 bytes.\n",
            "Files remaining 41\n",
            "Downloading: train0111.tfrecord\n",
            ">> Downloading http://us.data.yt8m.org/2/video/train/trainbX.tfrecord 100.0%Succesfully downloaded train0111.tfrecord 4847625 bytes.\n",
            "Successfully downloaded train0111.tfrecord\n",
            "\n",
            "\n",
            "Downloading: train2896.tfrecord\n",
            ">> Downloading http://us.data.yt8m.org/2/video/train/trainUS.tfrecord 100.2%Succesfully downloaded train2896.tfrecord 4800610 bytes.\n",
            "Successfully downloaded train2896.tfrecord\n",
            "\n",
            "\n",
            "Downloading: train3607.tfrecord\n",
            ">> Downloading http://us.data.yt8m.org/2/video/train/train6l.tfrecord 100.1%Succesfully downloaded train3607.tfrecord 4720481 bytes.\n",
            "Successfully downloaded train3607.tfrecord\n",
            "\n",
            "\n",
            "Downloading: train0580.tfrecord\n",
            ">> Downloading http://us.data.yt8m.org/2/video/train/trainjw.tfrecord 100.1%Succesfully downloaded train0580.tfrecord 4720586 bytes.\n",
            "Successfully downloaded train0580.tfrecord\n",
            "\n",
            "\n",
            "Downloading: train1864.tfrecord\n",
            ">> Downloading http://us.data.yt8m.org/2/video/train/trainEe.tfrecord 100.0%Succesfully downloaded train1864.tfrecord 5003085 bytes.\n",
            "Successfully downloaded train1864.tfrecord\n",
            "\n",
            "\n",
            "Downloading: train2950.tfrecord\n",
            ">> Downloading http://us.data.yt8m.org/2/video/train/trainVK.tfrecord 100.1%Succesfully downloaded train2950.tfrecord 4894875 bytes.\n",
            "Successfully downloaded train2950.tfrecord\n",
            "\n",
            "\n",
            "Downloading: train3012.tfrecord\n",
            ">> Downloading http://us.data.yt8m.org/2/video/train/trainWK.tfrecord 100.2%Succesfully downloaded train3012.tfrecord 4588660 bytes.\n",
            "Successfully downloaded train3012.tfrecord\n",
            "\n",
            "\n",
            "Downloading: train0667.tfrecord\n",
            ">> Downloading http://us.data.yt8m.org/2/video/train/trainkV.tfrecord 100.2%Succesfully downloaded train0667.tfrecord 4612181 bytes.\n",
            "Successfully downloaded train0667.tfrecord\n",
            "\n",
            "\n",
            "Downloading: train2072.tfrecord\n",
            ">> Downloading http://us.data.yt8m.org/2/video/train/trainHA.tfrecord 100.0%Succesfully downloaded train2072.tfrecord 4602758 bytes.\n",
            "Successfully downloaded train2072.tfrecord\n",
            "\n",
            "\n",
            "Downloading: train1805.tfrecord\n",
            ">> Downloading http://us.data.yt8m.org/2/video/train/trainDh.tfrecord 100.1%Succesfully downloaded train1805.tfrecord 4974932 bytes.\n",
            "Successfully downloaded train1805.tfrecord\n",
            "\n",
            "\n",
            "Downloading: train3749.tfrecord\n",
            ">> Downloading http://us.data.yt8m.org/2/video/train/train8D.tfrecord 100.0%Succesfully downloaded train3749.tfrecord 4579326 bytes.\n",
            "Successfully downloaded train3749.tfrecord\n",
            "\n",
            "\n",
            "Downloading: train3529.tfrecord\n",
            ">> Downloading http://us.data.yt8m.org/2/video/train/train45.tfrecord 100.1%Succesfully downloaded train3529.tfrecord 4819538 bytes.\n",
            "Successfully downloaded train3529.tfrecord\n",
            "\n",
            "\n",
            "Downloading: train1110.tfrecord\n",
            ">> Downloading http://us.data.yt8m.org/2/video/train/trainr4.tfrecord 100.1%Succesfully downloaded train1110.tfrecord 4810140 bytes.\n",
            "Successfully downloaded train1110.tfrecord\n",
            "\n",
            "\n",
            "Downloading: train0503.tfrecord\n",
            ">> Downloading http://us.data.yt8m.org/2/video/train/trainih.tfrecord 100.0%Succesfully downloaded train0503.tfrecord 4701625 bytes.\n",
            "Successfully downloaded train0503.tfrecord\n",
            "\n",
            "\n",
            "Downloading: train2902.tfrecord\n",
            ">> Downloading http://us.data.yt8m.org/2/video/train/trainUY.tfrecord 100.0%Succesfully downloaded train2902.tfrecord 4725265 bytes.\n",
            "Successfully downloaded train2902.tfrecord\n",
            "\n",
            "\n",
            "Downloading: train3622.tfrecord\n",
            ">> Downloading http://us.data.yt8m.org/2/video/train/train6A.tfrecord 100.1%Succesfully downloaded train3622.tfrecord 4843033 bytes.\n",
            "Successfully downloaded train3622.tfrecord\n",
            "\n",
            "\n",
            "Downloading: train0274.tfrecord\n",
            ">> Downloading http://us.data.yt8m.org/2/video/train/traineA.tfrecord 100.0%Succesfully downloaded train0274.tfrecord 4923019 bytes.\n",
            "Successfully downloaded train0274.tfrecord\n",
            "\n",
            "\n",
            "Downloading: train3560.tfrecord\n",
            ">> Downloading http://us.data.yt8m.org/2/video/train/train5A.tfrecord 100.0%Succesfully downloaded train3560.tfrecord 4626172 bytes.\n",
            "Successfully downloaded train3560.tfrecord\n",
            "\n",
            "\n",
            "Downloading: train3551.tfrecord\n",
            ">> Downloading http://us.data.yt8m.org/2/video/train/train5r.tfrecord 100.1%Succesfully downloaded train3551.tfrecord 4809948 bytes.\n",
            "Successfully downloaded train3551.tfrecord\n",
            "\n",
            "\n",
            "Downloading: train2161.tfrecord\n",
            ">> Downloading http://us.data.yt8m.org/2/video/train/trainI1.tfrecord 100.1%Succesfully downloaded train2161.tfrecord 4720315 bytes.\n",
            "Successfully downloaded train2161.tfrecord\n",
            "\n",
            "\n",
            "Downloading: train2722.tfrecord\n",
            ">> Downloading http://us.data.yt8m.org/2/video/train/trainR4.tfrecord 100.1%Succesfully downloaded train2722.tfrecord 4871186 bytes.\n",
            "Successfully downloaded train2722.tfrecord\n",
            "\n",
            "\n",
            "Downloading: train3477.tfrecord\n",
            ">> Downloading http://us.data.yt8m.org/2/video/train/train4f.tfrecord 100.2%Succesfully downloaded train3477.tfrecord 4744107 bytes.\n",
            "Successfully downloaded train3477.tfrecord\n",
            "\n",
            "\n",
            "Downloading: train0979.tfrecord\n",
            ">> Downloading http://us.data.yt8m.org/2/video/train/trainpX.tfrecord 100.0%Succesfully downloaded train0979.tfrecord 4913741 bytes.\n",
            "Successfully downloaded train0979.tfrecord\n",
            "\n",
            "\n",
            "Downloading: train2154.tfrecord\n",
            ">> Downloading http://us.data.yt8m.org/2/video/train/trainIU.tfrecord 100.1%Succesfully downloaded train2154.tfrecord 4908799 bytes.\n",
            "Successfully downloaded train2154.tfrecord\n",
            "\n",
            "\n",
            "Downloading: train3519.tfrecord\n",
            ">> Downloading http://us.data.yt8m.org/2/video/train/train4V.tfrecord 100.1%Succesfully downloaded train3519.tfrecord 4649929 bytes.\n",
            "Successfully downloaded train3519.tfrecord\n",
            "\n",
            "\n",
            "Downloading: train0830.tfrecord\n",
            ">> Downloading http://us.data.yt8m.org/2/video/train/trainny.tfrecord 100.0%Succesfully downloaded train0830.tfrecord 4890140 bytes.\n",
            "Successfully downloaded train0830.tfrecord\n",
            "\n",
            "\n",
            "Downloading: train0637.tfrecord\n",
            ">> Downloading http://us.data.yt8m.org/2/video/train/trainkr.tfrecord 100.1%Succesfully downloaded train0637.tfrecord 4748745 bytes.\n",
            "Successfully downloaded train0637.tfrecord\n",
            "\n",
            "\n",
            "Downloading: train2791.tfrecord\n",
            ">> Downloading http://us.data.yt8m.org/2/video/train/trainTb.tfrecord 100.1%Succesfully downloaded train2791.tfrecord 4852444 bytes.\n",
            "Successfully downloaded train2791.tfrecord\n",
            "\n",
            "\n",
            "Downloading: train0477.tfrecord\n",
            ">> Downloading http://us.data.yt8m.org/2/video/train/trainhR.tfrecord 100.2%Succesfully downloaded train0477.tfrecord 4678186 bytes.\n",
            "Successfully downloaded train0477.tfrecord\n",
            "\n",
            "\n",
            "Downloading: train3220.tfrecord\n",
            ">> Downloading http://us.data.yt8m.org/2/video/train/trainZ6.tfrecord 100.1%Succesfully downloaded train3220.tfrecord 4937123 bytes.\n",
            "Successfully downloaded train3220.tfrecord\n",
            "\n",
            "\n",
            "Downloading: train1087.tfrecord\n",
            ">> Downloading http://us.data.yt8m.org/2/video/train/trainrH.tfrecord 100.1%Succesfully downloaded train1087.tfrecord 4819395 bytes.\n",
            "Successfully downloaded train1087.tfrecord\n",
            "\n",
            "\n",
            "Downloading: train0352.tfrecord\n",
            ">> Downloading http://us.data.yt8m.org/2/video/train/trainfQ.tfrecord 100.1%Succesfully downloaded train0352.tfrecord 4630936 bytes.\n",
            "Successfully downloaded train0352.tfrecord\n",
            "\n",
            "\n",
            "Downloading: train2160.tfrecord\n",
            ">> Downloading http://us.data.yt8m.org/2/video/train/trainI0.tfrecord 100.0%Succesfully downloaded train2160.tfrecord 4781830 bytes.\n",
            "Successfully downloaded train2160.tfrecord\n",
            "\n",
            "\n",
            "Downloading: train1745.tfrecord\n",
            ">> Downloading http://us.data.yt8m.org/2/video/train/trainCj.tfrecord 100.1%Succesfully downloaded train1745.tfrecord 4532112 bytes.\n",
            "Successfully downloaded train1745.tfrecord\n",
            "\n",
            "\n",
            "Downloading: train0276.tfrecord\n",
            ">> Downloading http://us.data.yt8m.org/2/video/train/traineC.tfrecord 100.1%Succesfully downloaded train0276.tfrecord 4598068 bytes.\n",
            "Successfully downloaded train0276.tfrecord\n",
            "\n",
            "\n",
            "Downloading: train1646.tfrecord\n",
            ">> Downloading http://us.data.yt8m.org/2/video/train/trainAI.tfrecord 100.0%Succesfully downloaded train1646.tfrecord 4503804 bytes.\n",
            "Successfully downloaded train1646.tfrecord\n",
            "\n",
            "\n",
            "Downloading: train2495.tfrecord\n",
            ">> Downloading http://us.data.yt8m.org/2/video/train/trainOp.tfrecord 100.1%Succesfully downloaded train2495.tfrecord 4649843 bytes.\n",
            "Successfully downloaded train2495.tfrecord\n",
            "\n",
            "\n",
            "Downloading: train0434.tfrecord\n",
            ">> Downloading http://us.data.yt8m.org/2/video/train/trainha.tfrecord 100.2%Succesfully downloaded train0434.tfrecord 4645199 bytes.\n",
            "Successfully downloaded train0434.tfrecord\n",
            "\n",
            "\n",
            "Downloading: train0208.tfrecord\n",
            ">> Downloading http://us.data.yt8m.org/2/video/train/traindw.tfrecord 100.0%Succesfully downloaded train0208.tfrecord 4725425 bytes.\n",
            "Successfully downloaded train0208.tfrecord\n",
            "\n",
            "\n",
            "Downloading: train0093.tfrecord\n",
            ">> Downloading http://us.data.yt8m.org/2/video/train/trainbF.tfrecord 100.0%Succesfully downloaded train0093.tfrecord 4781779 bytes.\n",
            "Successfully downloaded train0093.tfrecord\n",
            "\n",
            "\n",
            "Downloading: train3702.tfrecord\n",
            ">> Downloading http://us.data.yt8m.org/2/video/train/train7S.tfrecord 100.1%Succesfully downloaded train3702.tfrecord 4819404 bytes.\n",
            "Successfully downloaded train3702.tfrecord\n",
            "\n",
            "\n",
            "All done. No more files to download.\n"
          ],
          "name": "stdout"
        }
      ]
    }
  ]
}