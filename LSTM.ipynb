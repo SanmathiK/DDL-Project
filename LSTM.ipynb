{
  "nbformat": 4,
  "nbformat_minor": 0,
  "metadata": {
    "colab": {
      "name": "DDL_project.ipynb",
      "provenance": [],
      "collapsed_sections": [],
      "include_colab_link": true
    },
    "kernelspec": {
      "name": "python3",
      "display_name": "Python 3"
    }
  },
  "cells": [
    {
      "cell_type": "markdown",
      "metadata": {
        "id": "view-in-github",
        "colab_type": "text"
      },
      "source": [
        "<a href=\"https://colab.research.google.com/github/alekhyam94/DDL-Project/blob/master/LSTM.ipynb\" target=\"_parent\"><img src=\"https://colab.research.google.com/assets/colab-badge.svg\" alt=\"Open In Colab\"/></a>"
      ]
    },
    {
      "cell_type": "code",
      "metadata": {
        "id": "jqjfMe3kHiBf",
        "colab_type": "code",
        "outputId": "47f03b6d-987e-4001-fea3-968b33ed7c7f",
        "colab": {
          "base_uri": "https://localhost:8080/",
          "height": 122
        }
      },
      "source": [
        "from google.colab import drive\n",
        "drive.mount('/content/drive/')\n",
        "\n",
        "import os"
      ],
      "execution_count": 0,
      "outputs": [
        {
          "output_type": "stream",
          "text": [
            "Go to this URL in a browser: https://accounts.google.com/o/oauth2/auth?client_id=947318989803-6bn6qk8qdgf4n4g3pfee6491hc0brc4i.apps.googleusercontent.com&redirect_uri=urn%3Aietf%3Awg%3Aoauth%3A2.0%3Aoob&scope=email%20https%3A%2F%2Fwww.googleapis.com%2Fauth%2Fdocs.test%20https%3A%2F%2Fwww.googleapis.com%2Fauth%2Fdrive%20https%3A%2F%2Fwww.googleapis.com%2Fauth%2Fdrive.photos.readonly%20https%3A%2F%2Fwww.googleapis.com%2Fauth%2Fpeopleapi.readonly&response_type=code\n",
            "\n",
            "Enter your authorization code:\n",
            "··········\n",
            "Mounted at /content/drive/\n"
          ],
          "name": "stdout"
        }
      ]
    },
    {
      "cell_type": "markdown",
      "metadata": {
        "id": "88g3eFEiHqo8",
        "colab_type": "text"
      },
      "source": [
        "Download training data"
      ]
    },
    {
      "cell_type": "code",
      "metadata": {
        "id": "KunHQr5DKLry",
        "colab_type": "code",
        "outputId": "2986c1ca-dd43-4101-bdaa-e499aff41759",
        "colab": {
          "base_uri": "https://localhost:8080/",
          "height": 241
        }
      },
      "source": [
        "!mkdir -p /content/2/frame/train\n",
        "os.chdir('/content/2/frame/train')\n",
        "!curl data.yt8m.org/download.py | shard=1,3000 partition=2/frame/train mirror=us python"
      ],
      "execution_count": 0,
      "outputs": [
        {
          "output_type": "stream",
          "text": [
            "  % Total    % Received % Xferd  Average Speed   Time    Time     Time  Current\n",
            "                                 Dload  Upload   Total   Spent    Left  Speed\n",
            "100  4450  100  4450    0     0  16300      0 --:--:-- --:--:-- --:--:-- 16300\n",
            "Starting fresh download in this directory. Please make sure you have >2TB of free disk space!\n",
            ">> Downloading http://data.yt8m.org/2/download_plans/frame_train.json 102.7%Succesfully downloaded 2_frame_train_download_plan.json 215275 bytes.\n",
            "Files remaining 1\n",
            "Downloading: train2161.tfrecord\n",
            ">> Downloading http://us.data.yt8m.org/2/frame/train/trainI1.tfrecord 100.0%Succesfully downloaded train2161.tfrecord 270351379 bytes.\n",
            "Successfully downloaded train2161.tfrecord\n",
            "\n",
            "\n",
            "All done. No more files to download.\n"
          ],
          "name": "stdout"
        }
      ]
    },
    {
      "cell_type": "code",
      "metadata": {
        "id": "qeA0QjBgKvqY",
        "colab_type": "code",
        "outputId": "024a1ef3-487a-4aa1-8354-331e370f6af6",
        "colab": {
          "base_uri": "https://localhost:8080/",
          "height": 34
        }
      },
      "source": [
        "os.chdir('/content/drive/My Drive/youtube-8m-code/code/youtube-8m/')\n",
        "!python train.py --frame_features --model=FrameLevelLogisticClassifier --feature_names='rgb' --feature_sizes='1024' --train_data_pattern=/content/2/frame/train/train*.tfrecord --train_dir /content/models/frame/sample_model --start_new_model "
      ],
      "execution_count": 0,
      "outputs": [
        {
          "output_type": "stream",
          "text": [
            "python3: can't open file 'train.py': [Errno 2] No such file or directory\n"
          ],
          "name": "stdout"
        }
      ]
    },
    {
      "cell_type": "markdown",
      "metadata": {
        "id": "aMQmSgOiH3SR",
        "colab_type": "text"
      },
      "source": [
        "# New Section"
      ]
    },
    {
      "cell_type": "code",
      "metadata": {
        "id": "w4gwugpLF-ZI",
        "colab_type": "code",
        "outputId": "abfc0e0c-c25f-4b1a-f964-55d92bc7df71",
        "colab": {
          "base_uri": "https://localhost:8080/",
          "height": 34
        }
      },
      "source": [
        "!pwd"
      ],
      "execution_count": 0,
      "outputs": [
        {
          "output_type": "stream",
          "text": [
            "/content/2/frame/train\n"
          ],
          "name": "stdout"
        }
      ]
    },
    {
      "cell_type": "code",
      "metadata": {
        "id": "Q6l7FVRYGCwQ",
        "colab_type": "code",
        "colab": {}
      },
      "source": [
        ""
      ],
      "execution_count": 0,
      "outputs": []
    }
  ]
}