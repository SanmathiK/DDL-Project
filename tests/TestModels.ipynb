{
  "nbformat": 4,
  "nbformat_minor": 0,
  "metadata": {
    "colab": {
      "name": "TestModels.ipynb",
      "provenance": [],
      "include_colab_link": true
    },
    "kernelspec": {
      "name": "python3",
      "display_name": "Python 3"
    },
    "accelerator": "GPU"
  },
  "cells": [
    {
      "cell_type": "markdown",
      "metadata": {
        "id": "view-in-github",
        "colab_type": "text"
      },
      "source": [
        "<a href=\"https://colab.research.google.com/github/alekhyam94/DDL-Project/blob/master/tests/TestModels.ipynb\" target=\"_parent\"><img src=\"https://colab.research.google.com/assets/colab-badge.svg\" alt=\"Open In Colab\"/></a>"
      ]
    },
    {
      "cell_type": "code",
      "metadata": {
        "id": "7jS6oT-Q3KIl",
        "colab_type": "code",
        "outputId": "36d5ab7f-ec2e-46ba-d07f-30b2b853fb21",
        "colab": {
          "base_uri": "https://localhost:8080/",
          "height": 34
        }
      },
      "source": [
        "from google.colab import drive\n",
        "drive.mount('/content/drive/')"
      ],
      "execution_count": 0,
      "outputs": [
        {
          "output_type": "stream",
          "text": [
            "Drive already mounted at /content/drive/; to attempt to forcibly remount, call drive.mount(\"/content/drive/\", force_remount=True).\n"
          ],
          "name": "stdout"
        }
      ]
    },
    {
      "cell_type": "code",
      "metadata": {
        "id": "4VdOxHih8ko2",
        "colab_type": "code",
        "colab": {}
      },
      "source": [
        "import os"
      ],
      "execution_count": 0,
      "outputs": []
    },
    {
      "cell_type": "markdown",
      "metadata": {
        "id": "vF4rbFdg3PSM",
        "colab_type": "text"
      },
      "source": [
        "# Download sample data for testing"
      ]
    },
    {
      "cell_type": "markdown",
      "metadata": {
        "id": "-aV3anlz3Z-e",
        "colab_type": "text"
      },
      "source": [
        "Download 1 frame-level training record"
      ]
    },
    {
      "cell_type": "code",
      "metadata": {
        "id": "AqzzS6x-3gDi",
        "colab_type": "code",
        "outputId": "b34ba222-7870-42bd-e53c-86bdeea03fc1",
        "colab": {
          "base_uri": "https://localhost:8080/",
          "height": 119
        }
      },
      "source": [
        "!mkdir -p /content/2/frame/train\n",
        "os.chdir('/content/2/frame/train')\n",
        "!curl data.yt8m.org/download.py | shard=1,3844 partition=2/frame/train mirror=us python"
      ],
      "execution_count": 0,
      "outputs": [
        {
          "output_type": "stream",
          "text": [
            "  % Total    % Received % Xferd  Average Speed   Time    Time     Time  Current\n",
            "                                 Dload  Upload   Total   Spent    Left  Speed\n",
            "\r  0     0    0     0    0     0      0      0 --:--:-- --:--:-- --:--:--     0\r100  4450  100  4450    0     0   289k      0 --:--:-- --:--:-- --:--:--  289k\n",
            "Resuming Download ...\n",
            "Files remaining 0\n",
            "All done. No more files to download.\n"
          ],
          "name": "stdout"
        }
      ]
    },
    {
      "cell_type": "markdown",
      "metadata": {
        "id": "DVuZMrEX3cYP",
        "colab_type": "text"
      },
      "source": [
        "Download 1 video-level training record"
      ]
    },
    {
      "cell_type": "code",
      "metadata": {
        "id": "jmTdRMfE3fez",
        "colab_type": "code",
        "outputId": "aa7cb73c-1a15-445f-ce3f-b5287bfba351",
        "colab": {
          "base_uri": "https://localhost:8080/",
          "height": 119
        }
      },
      "source": [
        "!mkdir -p /content/2/video/train\n",
        "os.chdir('/content/2/video/train')\n",
        "!curl data.yt8m.org/download.py | shard=1,3844 partition=2/video/train mirror=us python"
      ],
      "execution_count": 0,
      "outputs": [
        {
          "output_type": "stream",
          "text": [
            "  % Total    % Received % Xferd  Average Speed   Time    Time     Time  Current\n",
            "                                 Dload  Upload   Total   Spent    Left  Speed\n",
            "\r  0     0    0     0    0     0      0      0 --:--:-- --:--:-- --:--:--     0\r100  4450  100  4450    0     0   241k      0 --:--:-- --:--:-- --:--:--  241k\n",
            "Resuming Download ...\n",
            "Files remaining 0\n",
            "All done. No more files to download.\n"
          ],
          "name": "stdout"
        }
      ]
    },
    {
      "cell_type": "markdown",
      "metadata": {
        "id": "agK1WVVs36_m",
        "colab_type": "text"
      },
      "source": [
        "Download 1 frame-level validation record"
      ]
    },
    {
      "cell_type": "code",
      "metadata": {
        "id": "1Ie-5ilr4F2d",
        "colab_type": "code",
        "outputId": "15d25a20-1b56-40d9-9254-f90c6b387753",
        "colab": {
          "base_uri": "https://localhost:8080/",
          "height": 119
        }
      },
      "source": [
        "!mkdir -p /content/3/frame/validate\n",
        "os.chdir('/content/3/frame/validate')\n",
        "!curl data.yt8m.org/download.py | shard=1,3844 partition=3/frame/validate mirror=us python"
      ],
      "execution_count": 0,
      "outputs": [
        {
          "output_type": "stream",
          "text": [
            "  % Total    % Received % Xferd  Average Speed   Time    Time     Time  Current\n",
            "                                 Dload  Upload   Total   Spent    Left  Speed\n",
            "\r  0     0    0     0    0     0      0      0 --:--:-- --:--:-- --:--:--     0\r100  4450  100  4450    0     0   620k      0 --:--:-- --:--:-- --:--:--  620k\n",
            "Resuming Download ...\n",
            "Files remaining 0\n",
            "All done. No more files to download.\n"
          ],
          "name": "stdout"
        }
      ]
    },
    {
      "cell_type": "markdown",
      "metadata": {
        "id": "-yf_c3gd3-PH",
        "colab_type": "text"
      },
      "source": [
        "Download 1 video-level validation record"
      ]
    },
    {
      "cell_type": "code",
      "metadata": {
        "id": "sPfZ8BhT4CM3",
        "colab_type": "code",
        "outputId": "39543498-be7c-4e0d-b2d8-9c31c3565eb6",
        "colab": {
          "base_uri": "https://localhost:8080/",
          "height": 119
        }
      },
      "source": [
        "!mkdir -p /content/2/video/validate\n",
        "os.chdir('/content/2/video/validate')\n",
        "!curl data.yt8m.org/download.py | shard=1,3844 partition=2/video/validate mirror=us python"
      ],
      "execution_count": 0,
      "outputs": [
        {
          "output_type": "stream",
          "text": [
            "  % Total    % Received % Xferd  Average Speed   Time    Time     Time  Current\n",
            "                                 Dload  Upload   Total   Spent    Left  Speed\n",
            "\r  0     0    0     0    0     0      0      0 --:--:-- --:--:-- --:--:--     0\r100  4450  100  4450    0     0   620k      0 --:--:-- --:--:-- --:--:--  724k\n",
            "Resuming Download ...\n",
            "Files remaining 0\n",
            "All done. No more files to download.\n"
          ],
          "name": "stdout"
        }
      ]
    },
    {
      "cell_type": "markdown",
      "metadata": {
        "id": "cfMaM_Ty_3Cd",
        "colab_type": "text"
      },
      "source": [
        "# Testing Models\n",
        "The cells below execute training and validation code for each model we implemented or modified. If the cells are successfully executed, then the print statement below the cell indicates this success."
      ]
    },
    {
      "cell_type": "markdown",
      "metadata": {
        "id": "8ya_2DFt4qfZ",
        "colab_type": "text"
      },
      "source": [
        "# Test Logistic Model"
      ]
    },
    {
      "cell_type": "code",
      "metadata": {
        "id": "xQGQWfzo6gvR",
        "colab_type": "code",
        "colab": {}
      },
      "source": [
        "os.chdir('/content/drive/My Drive/youtube-8m-code/code/youtube-8m/')"
      ],
      "execution_count": 0,
      "outputs": []
    },
    {
      "cell_type": "code",
      "metadata": {
        "id": "eAhEY-g34t6G",
        "colab_type": "code",
        "colab": {}
      },
      "source": [
        "%%capture\n",
        "!python train.py --frame_features --model=FrameLevelLogisticModel --feature_names='rgb' --feature_sizes='1024' --train_data_pattern=/content/2/frame/train/train*.tfrecord --train_dir /content/models/frame/sample_model --start_new_model --num_epochs=1\n",
        "\n",
        "!python eval.py -eval_data_pattern=/content/3/frame/validate/validate*.tfrecord --train_dir /content/models/frame/sample_model --segment_labels --run_once True"
      ],
      "execution_count": 0,
      "outputs": []
    },
    {
      "cell_type": "code",
      "metadata": {
        "id": "8ER5NX6l_CGc",
        "colab_type": "code",
        "outputId": "8b2cd2a0-07e0-4e79-96f5-be08484fd487",
        "colab": {
          "base_uri": "https://localhost:8080/",
          "height": 34
        }
      },
      "source": [
        "print('Logistic Model tests passed!')"
      ],
      "execution_count": 0,
      "outputs": [
        {
          "output_type": "stream",
          "text": [
            "Logistic Model tests passed!\n"
          ],
          "name": "stdout"
        }
      ]
    },
    {
      "cell_type": "markdown",
      "metadata": {
        "id": "wWoPg8uZFHZm",
        "colab_type": "text"
      },
      "source": [
        "# Test LSTM Model"
      ]
    },
    {
      "cell_type": "code",
      "metadata": {
        "id": "q_fGUDu3FLb2",
        "colab_type": "code",
        "colab": {}
      },
      "source": [
        "%%capture\n",
        "!python train.py --frame_features --model=LstmModel --feature_names='rgb,audio' --feature_sizes='1024,128' --train_data_pattern=/content/2/frame/train/train*.tfrecord --train_dir=/content/models/frame/lstm_50 --start_new_model --num_epochs=1 --batch_size=128 --base_learning_rate=0.0002 --iterations=150\n",
        "\n",
        "!python eval.py -eval_data_pattern=/content/3/frame/validate/validate*.tfrecord --train_dir /content/models/frame/lstm_50 --segment_labels --run_once True"
      ],
      "execution_count": 0,
      "outputs": []
    },
    {
      "cell_type": "code",
      "metadata": {
        "id": "aw5p3PY2FOCA",
        "colab_type": "code",
        "colab": {}
      },
      "source": [
        "print('LSTM Model tests passed!')"
      ],
      "execution_count": 0,
      "outputs": []
    },
    {
      "cell_type": "markdown",
      "metadata": {
        "id": "tBWSx04LFPwk",
        "colab_type": "text"
      },
      "source": [
        "# Test ResNet Model"
      ]
    },
    {
      "cell_type": "code",
      "metadata": {
        "id": "6Guj8pSmFS1p",
        "colab_type": "code",
        "colab": {}
      },
      "source": [
        "%%capture\n",
        "!python train.py --model=ResNetChanged --train_data_pattern=/content/2/video/train/train*.tfrecord --train_dir /content/models/video/resnet_changed4 --start_new_model --num_epochs=1 --export_model_steps=10 \n",
        "\n",
        "!python eval.py --eval_data_pattern=/content/2/video/validate/validate*.tfrecord --train_dir /content/models/video/resnet_changed4 --run_once True"
      ],
      "execution_count": 0,
      "outputs": []
    },
    {
      "cell_type": "code",
      "metadata": {
        "id": "nGqg6n8kFVNq",
        "colab_type": "code",
        "colab": {}
      },
      "source": [
        "print('ResNet Model tests passed!')"
      ],
      "execution_count": 0,
      "outputs": []
    }
  ]
}