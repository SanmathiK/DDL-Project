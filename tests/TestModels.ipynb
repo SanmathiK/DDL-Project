{
  "nbformat": 4,
  "nbformat_minor": 0,
  "metadata": {
    "colab": {
      "name": "TestModels.ipynb",
      "provenance": [],
      "include_colab_link": true
    },
    "kernelspec": {
      "name": "python3",
      "display_name": "Python 3"
    },
    "accelerator": "GPU"
  },
  "cells": [
    {
      "cell_type": "markdown",
      "metadata": {
        "id": "view-in-github",
        "colab_type": "text"
      },
      "source": [
        "<a href=\"https://colab.research.google.com/github/alekhyam94/DDL-Project/blob/master/tests/TestModels.ipynb\" target=\"_parent\"><img src=\"https://colab.research.google.com/assets/colab-badge.svg\" alt=\"Open In Colab\"/></a>"
      ]
    },
    {
      "cell_type": "code",
      "metadata": {
        "id": "7jS6oT-Q3KIl",
        "colab_type": "code",
        "outputId": "5d5983cd-9baa-4636-9170-81ee310829d4",
        "colab": {
          "base_uri": "https://localhost:8080/",
          "height": 34
        }
      },
      "source": [
        "from google.colab import drive\n",
        "drive.mount('/content/drive/')"
      ],
      "execution_count": 23,
      "outputs": [
        {
          "output_type": "stream",
          "text": [
            "Drive already mounted at /content/drive/; to attempt to forcibly remount, call drive.mount(\"/content/drive/\", force_remount=True).\n"
          ],
          "name": "stdout"
        }
      ]
    },
    {
      "cell_type": "code",
      "metadata": {
        "id": "4VdOxHih8ko2",
        "colab_type": "code",
        "colab": {}
      },
      "source": [
        "import os"
      ],
      "execution_count": 0,
      "outputs": []
    },
    {
      "cell_type": "markdown",
      "metadata": {
        "id": "vF4rbFdg3PSM",
        "colab_type": "text"
      },
      "source": [
        "# Download sample data for testing"
      ]
    },
    {
      "cell_type": "markdown",
      "metadata": {
        "id": "-aV3anlz3Z-e",
        "colab_type": "text"
      },
      "source": [
        "Download sample frame-level training record"
      ]
    },
    {
      "cell_type": "code",
      "metadata": {
        "id": "AqzzS6x-3gDi",
        "colab_type": "code",
        "outputId": "f62c2cc2-9602-4d0e-a098-26e3a471985e",
        "colab": {
          "base_uri": "https://localhost:8080/",
          "height": 119
        }
      },
      "source": [
        "!mkdir -p /content/2/frame/train\n",
        "os.chdir('/content/2/frame/train')\n",
        "!curl data.yt8m.org/download.py | shard=1,3844 partition=2/frame/train mirror=us python"
      ],
      "execution_count": 25,
      "outputs": [
        {
          "output_type": "stream",
          "text": [
            "  % Total    % Received % Xferd  Average Speed   Time    Time     Time  Current\n",
            "                                 Dload  Upload   Total   Spent    Left  Speed\n",
            "\r  0     0    0     0    0     0      0      0 --:--:-- --:--:-- --:--:--     0\r100  4450  100  4450    0     0   620k      0 --:--:-- --:--:-- --:--:--  620k\n",
            "Resuming Download ...\n",
            "Files remaining 0\n",
            "All done. No more files to download.\n"
          ],
          "name": "stdout"
        }
      ]
    },
    {
      "cell_type": "markdown",
      "metadata": {
        "id": "DVuZMrEX3cYP",
        "colab_type": "text"
      },
      "source": [
        "Download sample video-level training record"
      ]
    },
    {
      "cell_type": "code",
      "metadata": {
        "id": "jmTdRMfE3fez",
        "colab_type": "code",
        "outputId": "f9eb415e-dd8c-430e-b810-8f4cf6dbbd9e",
        "colab": {
          "base_uri": "https://localhost:8080/",
          "height": 119
        }
      },
      "source": [
        "!mkdir -p /content/2/video/train\n",
        "os.chdir('/content/2/video/train')\n",
        "!curl data.yt8m.org/download.py | shard=1,3844 partition=2/video/train mirror=us python"
      ],
      "execution_count": 26,
      "outputs": [
        {
          "output_type": "stream",
          "text": [
            "  % Total    % Received % Xferd  Average Speed   Time    Time     Time  Current\n",
            "                                 Dload  Upload   Total   Spent    Left  Speed\n",
            "\r  0     0    0     0    0     0      0      0 --:--:-- --:--:-- --:--:--     0\r100  4450  100  4450    0     0   724k      0 --:--:-- --:--:-- --:--:--  724k\n",
            "Resuming Download ...\n",
            "Files remaining 0\n",
            "All done. No more files to download.\n"
          ],
          "name": "stdout"
        }
      ]
    },
    {
      "cell_type": "markdown",
      "metadata": {
        "id": "agK1WVVs36_m",
        "colab_type": "text"
      },
      "source": [
        "Download sample frame-level validation record"
      ]
    },
    {
      "cell_type": "code",
      "metadata": {
        "id": "1Ie-5ilr4F2d",
        "colab_type": "code",
        "outputId": "9d075d84-2415-43c0-ddfc-61429e0e02cd",
        "colab": {
          "base_uri": "https://localhost:8080/",
          "height": 119
        }
      },
      "source": [
        "!mkdir -p /content/3/frame/validate\n",
        "os.chdir('/content/3/frame/validate')\n",
        "!curl data.yt8m.org/download.py | shard=1,3844 partition=3/frame/validate mirror=us python"
      ],
      "execution_count": 27,
      "outputs": [
        {
          "output_type": "stream",
          "text": [
            "  % Total    % Received % Xferd  Average Speed   Time    Time     Time  Current\n",
            "                                 Dload  Upload   Total   Spent    Left  Speed\n",
            "\r  0     0    0     0    0     0      0      0 --:--:-- --:--:-- --:--:--     0\r100  4450  100  4450    0     0   620k      0 --:--:-- --:--:-- --:--:--  724k\n",
            "Resuming Download ...\n",
            "Files remaining 0\n",
            "All done. No more files to download.\n"
          ],
          "name": "stdout"
        }
      ]
    },
    {
      "cell_type": "markdown",
      "metadata": {
        "id": "-yf_c3gd3-PH",
        "colab_type": "text"
      },
      "source": [
        "Download sample video-level validation record"
      ]
    },
    {
      "cell_type": "code",
      "metadata": {
        "id": "sPfZ8BhT4CM3",
        "colab_type": "code",
        "outputId": "40b008eb-59d1-4a64-8dd0-bad71e177d26",
        "colab": {
          "base_uri": "https://localhost:8080/",
          "height": 119
        }
      },
      "source": [
        "!mkdir -p /content/2/video/validate\n",
        "os.chdir('/content/2/video/validate')\n",
        "!curl data.yt8m.org/download.py | shard=1,3844 partition=2/video/validate mirror=us python"
      ],
      "execution_count": 28,
      "outputs": [
        {
          "output_type": "stream",
          "text": [
            "  % Total    % Received % Xferd  Average Speed   Time    Time     Time  Current\n",
            "                                 Dload  Upload   Total   Spent    Left  Speed\n",
            "\r  0     0    0     0    0     0      0      0 --:--:-- --:--:-- --:--:--     0\r100  4450  100  4450    0     0   543k      0 --:--:-- --:--:-- --:--:--  543k\n",
            "Resuming Download ...\n",
            "Files remaining 0\n",
            "All done. No more files to download.\n"
          ],
          "name": "stdout"
        }
      ]
    },
    {
      "cell_type": "markdown",
      "metadata": {
        "id": "cfMaM_Ty_3Cd",
        "colab_type": "text"
      },
      "source": [
        "# Testing Models\n",
        "The cells below execute training and validation code for each model we implemented or modified. If the cells are successfully executed, then the print statement below the cell indicates this success."
      ]
    },
    {
      "cell_type": "markdown",
      "metadata": {
        "id": "8ya_2DFt4qfZ",
        "colab_type": "text"
      },
      "source": [
        "# Test Logistic Model"
      ]
    },
    {
      "cell_type": "code",
      "metadata": {
        "id": "xQGQWfzo6gvR",
        "colab_type": "code",
        "colab": {}
      },
      "source": [
        "os.chdir('/content/drive/My Drive/youtube-8m-code/code/youtube-8m/')"
      ],
      "execution_count": 0,
      "outputs": []
    },
    {
      "cell_type": "code",
      "metadata": {
        "id": "eAhEY-g34t6G",
        "colab_type": "code",
        "colab": {}
      },
      "source": [
        "%%capture\n",
        "!python train.py --frame_features --model=FrameLevelLogisticModel --feature_names='rgb' --feature_sizes='1024' --train_data_pattern=/content/2/frame/train/train*.tfrecord --train_dir /content/models/frame/sample_model --start_new_model --num_epochs=1\n",
        "\n",
        "!python eval.py -eval_data_pattern=/content/3/frame/validate/validate*.tfrecord --train_dir /content/models/frame/sample_model --segment_labels --run_once True"
      ],
      "execution_count": 0,
      "outputs": []
    },
    {
      "cell_type": "code",
      "metadata": {
        "id": "8ER5NX6l_CGc",
        "colab_type": "code",
        "outputId": "42d14d87-a843-4217-e40a-8bb8d4c385bc",
        "colab": {
          "base_uri": "https://localhost:8080/",
          "height": 34
        }
      },
      "source": [
        "print('Logistic Model tests passed!')"
      ],
      "execution_count": 31,
      "outputs": [
        {
          "output_type": "stream",
          "text": [
            "Logistic Model tests passed!\n"
          ],
          "name": "stdout"
        }
      ]
    },
    {
      "cell_type": "markdown",
      "metadata": {
        "id": "wWoPg8uZFHZm",
        "colab_type": "text"
      },
      "source": [
        "# Test LSTM Model"
      ]
    },
    {
      "cell_type": "code",
      "metadata": {
        "id": "q_fGUDu3FLb2",
        "colab_type": "code",
        "colab": {}
      },
      "source": [
        "%%capture\n",
        "!python train.py --frame_features --model=LstmModel --feature_names='rgb,audio' --feature_sizes='1024,128' --train_data_pattern=/content/2/frame/train/train*.tfrecord --train_dir=/content/models/frame/lstm_50 --start_new_model --num_epochs=1 --batch_size=128 --base_learning_rate=0.0002 --iterations=150\n",
        "\n",
        "!python eval.py -eval_data_pattern=/content/3/frame/validate/validate*.tfrecord --train_dir /content/models/frame/lstm_50 --segment_labels --run_once True"
      ],
      "execution_count": 0,
      "outputs": []
    },
    {
      "cell_type": "code",
      "metadata": {
        "id": "aw5p3PY2FOCA",
        "colab_type": "code",
        "colab": {
          "base_uri": "https://localhost:8080/",
          "height": 34
        },
        "outputId": "09244daf-3d2b-48c7-866f-5631c07f93a9"
      },
      "source": [
        "print('LSTM Model tests passed!')"
      ],
      "execution_count": 33,
      "outputs": [
        {
          "output_type": "stream",
          "text": [
            "LSTM Model tests passed!\n"
          ],
          "name": "stdout"
        }
      ]
    },
    {
      "cell_type": "markdown",
      "metadata": {
        "id": "tBWSx04LFPwk",
        "colab_type": "text"
      },
      "source": [
        "# Test ResNet Model"
      ]
    },
    {
      "cell_type": "code",
      "metadata": {
        "id": "6Guj8pSmFS1p",
        "colab_type": "code",
        "colab": {}
      },
      "source": [
        "%%capture\n",
        "!python train.py --model=ResNetChanged --train_data_pattern=/content/2/video/train/train*.tfrecord --train_dir /content/models/video/resnet_changed4 --start_new_model --num_epochs=1 --export_model_steps=10 \n",
        "\n",
        "!python eval.py --eval_data_pattern=/content/2/video/validate/validate*.tfrecord --train_dir /content/models/video/resnet_changed4 --run_once True"
      ],
      "execution_count": 0,
      "outputs": []
    },
    {
      "cell_type": "code",
      "metadata": {
        "id": "nGqg6n8kFVNq",
        "colab_type": "code",
        "colab": {
          "base_uri": "https://localhost:8080/",
          "height": 34
        },
        "outputId": "fa561cca-4464-4954-e7ee-6920f611e94b"
      },
      "source": [
        "print('ResNet Model tests passed!')"
      ],
      "execution_count": 35,
      "outputs": [
        {
          "output_type": "stream",
          "text": [
            "ResNet Model tests passed!\n"
          ],
          "name": "stdout"
        }
      ]
    },
    {
      "cell_type": "markdown",
      "metadata": {
        "id": "vcLpcFrKNf0z",
        "colab_type": "text"
      },
      "source": [
        "# Test ResNetLayers Model"
      ]
    },
    {
      "cell_type": "code",
      "metadata": {
        "id": "2W3qn_caNoAt",
        "colab_type": "code",
        "colab": {}
      },
      "source": [
        "%%capture\n",
        "!python train.py --model=ResNetLayers --train_data_pattern=/content/2/video/train/train*.tfrecord --train_dir /content/models/video/resnetlayers_full --start_new_model --num_epochs=1 --export_model_steps=10 \n",
        "\n",
        "!python eval.py --eval_data_pattern=/content/2/video/validate/validate*.tfrecord --train_dir /content/models/video/resnetlayers_full --run_once True"
      ],
      "execution_count": 0,
      "outputs": []
    },
    {
      "cell_type": "code",
      "metadata": {
        "id": "au9y2geNNrJi",
        "colab_type": "code",
        "colab": {
          "base_uri": "https://localhost:8080/",
          "height": 34
        },
        "outputId": "998c212e-275a-4431-eca1-0739d865f1c4"
      },
      "source": [
        "print('ResNet Layers Model tests passed!')"
      ],
      "execution_count": 37,
      "outputs": [
        {
          "output_type": "stream",
          "text": [
            "ResNet Layers Model tests passed!\n"
          ],
          "name": "stdout"
        }
      ]
    },
    {
      "cell_type": "markdown",
      "metadata": {
        "id": "MteG9xxHNw5M",
        "colab_type": "text"
      },
      "source": [
        "# Test ConvNet Model"
      ]
    },
    {
      "cell_type": "code",
      "metadata": {
        "id": "5uvf0bJ4N0m5",
        "colab_type": "code",
        "colab": {}
      },
      "source": [
        "%%capture\n",
        "!python train.py --model=ConvNet --train_data_pattern=/content/2/video/train/train*.tfrecord --train_dir /content/models/video/convnet --start_new_model --num_epochs=1 --export_model_steps=10 \n",
        "\n",
        "!python eval.py --eval_data_pattern=/content/2/video/validate/validate*.tfrecord --train_dir /content/models/video/convnet --run_once True"
      ],
      "execution_count": 0,
      "outputs": []
    },
    {
      "cell_type": "code",
      "metadata": {
        "id": "XNxhcGF6N_G7",
        "colab_type": "code",
        "colab": {
          "base_uri": "https://localhost:8080/",
          "height": 34
        },
        "outputId": "abc3514e-8d6d-4b67-cbca-96cfbbbea351"
      },
      "source": [
        "print('ConvNet Model tests passed!')"
      ],
      "execution_count": 39,
      "outputs": [
        {
          "output_type": "stream",
          "text": [
            "ConvNet Model tests passed!\n"
          ],
          "name": "stdout"
        }
      ]
    }
  ]
}